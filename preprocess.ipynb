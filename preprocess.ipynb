{
 "cells": [
  {
   "cell_type": "code",
   "execution_count": 20,
   "metadata": {
    "collapsed": true,
    "deletable": true,
    "editable": true
   },
   "outputs": [],
   "source": [
    "import json\n",
    "import cv2\n",
    "import os\n",
    "from scipy import misc\n",
    "import shutil\n",
    "from matplotlib import pyplot as plt\n",
    "import numpy as np\n",
    "import numpy.ma as ma\n",
    "from random import shuffle\n",
    "%matplotlib inline"
   ]
  },
  {
   "cell_type": "code",
   "execution_count": null,
   "metadata": {
    "collapsed": true,
    "deletable": true,
    "editable": true
   },
   "outputs": [],
   "source": []
  },
  {
   "cell_type": "code",
   "execution_count": 21,
   "metadata": {
    "collapsed": false,
    "deletable": true,
    "editable": true
   },
   "outputs": [],
   "source": [
    "animal = 'koala'\n",
    "raw_data_dir = os.path.join('doodles', animal)"
   ]
  },
  {
   "cell_type": "code",
   "execution_count": null,
   "metadata": {
    "collapsed": true,
    "deletable": true,
    "editable": true
   },
   "outputs": [],
   "source": []
  },
  {
   "cell_type": "code",
   "execution_count": 22,
   "metadata": {
    "collapsed": false,
    "deletable": true,
    "editable": true
   },
   "outputs": [],
   "source": [
    "conf_path = os.path.join(raw_data_dir, 'conf.json')\n",
    "with open(conf_path) as f:\n",
    "    conf = json.loads(f.read())\n",
    "obj_num = conf['obj_num']\n",
    "match = conf['match']"
   ]
  },
  {
   "cell_type": "code",
   "execution_count": null,
   "metadata": {
    "collapsed": true
   },
   "outputs": [],
   "source": []
  },
  {
   "cell_type": "code",
   "execution_count": null,
   "metadata": {
    "collapsed": true,
    "deletable": true,
    "editable": true
   },
   "outputs": [],
   "source": []
  },
  {
   "cell_type": "code",
   "execution_count": 23,
   "metadata": {
    "collapsed": false,
    "deletable": true,
    "editable": true
   },
   "outputs": [
    {
     "name": "stdout",
     "output_type": "stream",
     "text": [
      "Number of records: 52\n"
     ]
    }
   ],
   "source": [
    "img_names = os.listdir(raw_data_dir)\n",
    "records = []\n",
    "for img_name in img_names:\n",
    "    # only fetch the original image\n",
    "    if \"mask\" in img_name or \"json\" in img_name or \"result\" in img_name:\n",
    "        continue\n",
    "    \n",
    "    # get the image\n",
    "    img_path = os.path.join(raw_data_dir, img_name)\n",
    "    img = misc.imread(img_path)\n",
    "    \n",
    "    # verify bone json file exist\n",
    "    bone_name = img_name.split('.')[0] + \".json\"\n",
    "    bone_path = os.path.join(raw_data_dir, bone_name)\n",
    "    if os.path.isfile(bone_path) == False:\n",
    "        continue\n",
    "    \n",
    "    # get the bounding boxes\n",
    "    bboxes = []\n",
    "    for label_idx in range(obj_num):\n",
    "        mask_path = img_path.replace(\"png\", \"mask.\" + str(label_idx) + \".png\")\n",
    "        cur_label_img = misc.imread(mask_path, mode='L')\n",
    "        cur_label_img = np.minimum(cur_label_img, np.ones(cur_label_img.shape))\n",
    "        \n",
    "        t = np.nonzero(cur_label_img)\n",
    "        ymin = np.min(t[0])\n",
    "        ymax = np.max(t[0])\n",
    "        xmin = np.min(t[1])\n",
    "        xmax = np.max(t[1])\n",
    "        \n",
    "#         cv2.rectangle(img,\n",
    "#                       (int(xmin), int(ymin)),\n",
    "#                       (int(xmax), int(ymax)),\n",
    "#                       (255, 0, 0),\n",
    "#                       3)\n",
    "        \n",
    "#         plt.imshow(img)\n",
    "        bboxes.append([xmin, ymin, xmax, ymax])\n",
    "\n",
    "\n",
    "    # get the bone points\n",
    "    with open(bone_path) as f:\n",
    "        bone_info = json.load(f)\n",
    "\n",
    "    # normalize each bone point by the segmented box\n",
    "    norm_bone = []\n",
    "    for bone_idx, bone in enumerate(bone_info):\n",
    "        box_idx = match[bone_idx]\n",
    "        bbox = bboxes[box_idx]\n",
    "        [xmin, ymin, xmax, ymax] = bbox\n",
    "        xcenter = (xmax + xmin) / 2\n",
    "        ycenter = (ymax + ymin) / 2\n",
    "        box_width = (xmax - xmin)\n",
    "        box_height = (ymax - ymin)\n",
    "        \n",
    "        norm_bone_x = (bone[0] - xcenter) / box_width\n",
    "        norm_bone_y = (bone[1] - ycenter) / box_height\n",
    "        norm_bone.append([norm_bone_x, norm_bone_y])\n",
    "    \n",
    "    norm_bone = [str(ele[0]) + \" \" + str(ele[1]) for ele in norm_bone]\n",
    "    norm_bone = ' '.join(norm_bone)\n",
    "    \n",
    "    record = img_path + \" \" + norm_bone + \"\\n\"\n",
    "    \n",
    "    records.append(record)\n",
    "\n",
    "shuffle(records)\n",
    "print(\"Number of records: \" + str(len(records)))"
   ]
  },
  {
   "cell_type": "code",
   "execution_count": null,
   "metadata": {
    "collapsed": true,
    "deletable": true,
    "editable": true
   },
   "outputs": [],
   "source": []
  },
  {
   "cell_type": "code",
   "execution_count": 24,
   "metadata": {
    "collapsed": true,
    "deletable": true,
    "editable": true
   },
   "outputs": [],
   "source": [
    "# split into training set and test set\n",
    "test_ratio = 0.1\n",
    "total_num = len(records)\n",
    "test_num = int(test_ratio * total_num)\n",
    "train_num = total_num - test_num\n",
    "train_records = records[0:train_num]\n",
    "test_records = records[train_num:]"
   ]
  },
  {
   "cell_type": "code",
   "execution_count": 25,
   "metadata": {
    "collapsed": true,
    "deletable": true,
    "editable": true
   },
   "outputs": [],
   "source": [
    "# save to text file\n",
    "all_out_file = open(animal + \"_all.txt\", \"w\")\n",
    "for record in records:\n",
    "    all_out_file.write(record)\n",
    "all_out_file.close()\n",
    "\n",
    "train_out_file = open(animal + \"_train.txt\", \"w\")\n",
    "for record in train_records:\n",
    "    train_out_file.write(record)\n",
    "train_out_file.close()\n",
    "\n",
    "test_out_file = open(animal + \"_test.txt\", \"w\")\n",
    "for record in test_records:\n",
    "    test_out_file.write(record)\n",
    "test_out_file.close()"
   ]
  },
  {
   "cell_type": "code",
   "execution_count": null,
   "metadata": {
    "collapsed": true,
    "deletable": true,
    "editable": true
   },
   "outputs": [],
   "source": []
  }
 ],
 "metadata": {
  "kernelspec": {
   "display_name": "Python 3",
   "language": "python",
   "name": "python3"
  },
  "language_info": {
   "codemirror_mode": {
    "name": "ipython",
    "version": 3
   },
   "file_extension": ".py",
   "mimetype": "text/x-python",
   "name": "python",
   "nbconvert_exporter": "python",
   "pygments_lexer": "ipython3",
   "version": "3.5.2"
  }
 },
 "nbformat": 4,
 "nbformat_minor": 2
}
