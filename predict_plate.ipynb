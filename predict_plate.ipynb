{
 "cells": [
  {
   "cell_type": "code",
   "execution_count": 7,
   "metadata": {
    "collapsed": false
   },
   "outputs": [],
   "source": [
    "import os\n",
    "import numpy as np\n",
    "from scipy import misc\n",
    "import argparse\n",
    "import json\n",
    "import cv2\n",
    "\n",
    "from tensorpack import *\n",
    "from train import Model\n",
    "from reader import Data\n",
    "from cfgs.config import cfg\n",
    "import shutil\n",
    "from matplotlib import pyplot as plt\n",
    "%matplotlib inline"
   ]
  },
  {
   "cell_type": "code",
   "execution_count": null,
   "metadata": {
    "collapsed": true
   },
   "outputs": [],
   "source": []
  },
  {
   "cell_type": "code",
   "execution_count": 8,
   "metadata": {
    "collapsed": true
   },
   "outputs": [],
   "source": [
    "test_file_path = \"plate_test.txt\"\n",
    "# img_path = \"plate_keypoint\"\n",
    "model_path = 'train_log/train0725-153839/model-4824'\n",
    "new_plate_path = 'new_plate'\n",
    "new_plate_h = 50\n",
    "new_plate_w = 160\n",
    "pad = 10"
   ]
  },
  {
   "cell_type": "code",
   "execution_count": null,
   "metadata": {
    "collapsed": true
   },
   "outputs": [],
   "source": []
  },
  {
   "cell_type": "code",
   "execution_count": 9,
   "metadata": {
    "collapsed": false
   },
   "outputs": [],
   "source": [
    "# initialize the model\n",
    "depth = 18\n",
    "model = Model(depth)\n",
    "sess_init = SaverRestore(model_path)\n",
    "predict_config = PredictConfig(session_init=sess_init,\n",
    "                               model=model,\n",
    "                               input_names=[\"input\"],\n",
    "                               output_names=[\"logits\"])"
   ]
  },
  {
   "cell_type": "code",
   "execution_count": 10,
   "metadata": {
    "collapsed": false
   },
   "outputs": [
    {
     "name": "stdout",
     "output_type": "stream",
     "text": [
      "\u001b[32m[0725 16:26:43 @regularize.py:18]\u001b[0m Apply regularizer for conv0/W:0\n",
      "\u001b[32m[0725 16:26:43 @regularize.py:18]\u001b[0m Apply regularizer for group0/block0/conv1/W:0\n",
      "\u001b[32m[0725 16:26:43 @regularize.py:18]\u001b[0m Apply regularizer for group0/block0/conv2/W:0\n",
      "\u001b[32m[0725 16:26:43 @regularize.py:18]\u001b[0m Apply regularizer for group0/block1/conv1/W:0\n",
      "\u001b[32m[0725 16:26:43 @regularize.py:18]\u001b[0m Apply regularizer for group0/block1/conv2/W:0\n",
      "\u001b[32m[0725 16:26:43 @regularize.py:18]\u001b[0m Apply regularizer for group1/block0/conv1/W:0\n",
      "\u001b[32m[0725 16:26:43 @regularize.py:18]\u001b[0m Apply regularizer for group1/block0/conv2/W:0\n",
      "\u001b[32m[0725 16:26:43 @regularize.py:18]\u001b[0m Apply regularizer for group1/block0/convshortcut/W:0\n",
      "\u001b[32m[0725 16:26:43 @regularize.py:18]\u001b[0m Apply regularizer for group1/block1/conv1/W:0\n",
      "\u001b[32m[0725 16:26:43 @regularize.py:18]\u001b[0m Apply regularizer for group1/block1/conv2/W:0\n",
      "\u001b[32m[0725 16:26:43 @regularize.py:18]\u001b[0m Apply regularizer for group2/block0/conv1/W:0\n",
      "\u001b[32m[0725 16:26:43 @regularize.py:18]\u001b[0m Apply regularizer for group2/block0/conv2/W:0\n",
      "\u001b[32m[0725 16:26:43 @regularize.py:18]\u001b[0m Apply regularizer for group2/block0/convshortcut/W:0\n",
      "\u001b[32m[0725 16:26:43 @regularize.py:18]\u001b[0m Apply regularizer for group2/block1/conv1/W:0\n",
      "\u001b[32m[0725 16:26:43 @regularize.py:18]\u001b[0m Apply regularizer for group2/block1/conv2/W:0\n",
      "\u001b[32m[0725 16:26:43 @regularize.py:18]\u001b[0m Apply regularizer for group3/block0/conv1/W:0\n",
      "\u001b[32m[0725 16:26:43 @regularize.py:18]\u001b[0m Apply regularizer for group3/block0/conv2/W:0\n",
      "\u001b[32m[0725 16:26:43 @regularize.py:18]\u001b[0m Apply regularizer for group3/block0/convshortcut/W:0\n",
      "\u001b[32m[0725 16:26:43 @regularize.py:18]\u001b[0m Apply regularizer for group3/block1/conv1/W:0\n",
      "\u001b[32m[0725 16:26:43 @regularize.py:18]\u001b[0m Apply regularizer for group3/block1/conv2/W:0\n",
      "\u001b[32m[0725 16:26:43 @regularize.py:18]\u001b[0m Apply regularizer for linear-plate/W:0\n",
      "\u001b[32m[0725 16:26:43 @sesscreate.py:34]\u001b[0m Global variables initialized.\n",
      "\u001b[32m[0725 16:26:43 @sessinit.py:128]\u001b[0m \u001b[5m\u001b[31mWRN\u001b[0m Variable global_step:0 in checkpoint not found in the graph!\n",
      "\u001b[32m[0725 16:26:43 @sessinit.py:128]\u001b[0m \u001b[5m\u001b[31mWRN\u001b[0m Variable input_queue_size/EMA:0 in checkpoint not found in the graph!\n",
      "\u001b[32m[0725 16:26:43 @sessinit.py:128]\u001b[0m \u001b[5m\u001b[31mWRN\u001b[0m Variable learning_rate:0 in checkpoint not found in the graph!\n",
      "\u001b[32m[0725 16:26:43 @sessinit.py:128]\u001b[0m \u001b[5m\u001b[31mWRN\u001b[0m Variable tower0/l2_regularize_loss/EMA:0 in checkpoint not found in the graph!\n",
      "\u001b[32m[0725 16:26:43 @sessinit.py:128]\u001b[0m \u001b[5m\u001b[31mWRN\u001b[0m Variable tower0/loss/EMA:0 in checkpoint not found in the graph!\n",
      "\u001b[32m[0725 16:26:43 @sessinit.py:100]\u001b[0m Restoring checkpoint from train_log/train0725-153839/model-4824 ...\n",
      "INFO:tensorflow:Restoring parameters from train_log/train0725-153839/model-4824\n"
     ]
    }
   ],
   "source": [
    "predict_func = OfflinePredictor(predict_config)"
   ]
  },
  {
   "cell_type": "code",
   "execution_count": 11,
   "metadata": {
    "collapsed": true
   },
   "outputs": [],
   "source": [
    "def cal_coornidate_function(predictions,ori_img_h,ori_img_w):\n",
    "#     print(predictions)\n",
    "    coornidate = []\n",
    "    temw = (predictions[0]+0.5)*ori_img_w-10\n",
    "    temh = (predictions[1]+0.5)*ori_img_h-10\n",
    "    coornidate.append([temw,temh])\n",
    "#     print(coornidate)\n",
    "    temw = (predictions[2]+0.5)*ori_img_w+10\n",
    "    temh = (predictions[3]+0.5)*ori_img_h-10\n",
    "    coornidate.append([temw,temh])\n",
    "   \n",
    "    temw = (predictions[4]+0.5)*ori_img_w+10\n",
    "    temh = (predictions[5]+0.5)*ori_img_h+10\n",
    "    coornidate.append([temw,temh])\n",
    "\n",
    "    temw = (predictions[6]+0.5)*ori_img_w-10\n",
    "    temh = (predictions[7]+0.5)*ori_img_h+10\n",
    "    coornidate.append([temw,temh])\n",
    "    return coornidate"
   ]
  },
  {
   "cell_type": "code",
   "execution_count": 12,
   "metadata": {
    "collapsed": false
   },
   "outputs": [
    {
     "name": "stdout",
     "output_type": "stream",
     "text": [
      "total items :86\n",
      "process has finishined!!!\n"
     ]
    }
   ],
   "source": [
    "lines =[]\n",
    "with open(test_file_path,\"r\") as f:\n",
    "    lines = f.readlines()\n",
    "    f.close()\n",
    "print(\"total items :\" + str(len(lines)))\n",
    "if os.path.isdir(new_plate_path) == True:\n",
    "    shutil.rmtree(new_plate_path)\n",
    "os.mkdir(new_plate_path)\n",
    "for line in lines:\n",
    "    line = line.split(\" \")\n",
    "    img_path = line[0]\n",
    "    img = cv2.imread(img_path)\n",
    "    img_ori = img\n",
    "#    plt.imshow(img)\n",
    "    ori_img_h,ori_img_w = img.shape[0:2]\n",
    "#   \n",
    "#     print(img.shape)\n",
    "    img = cv2.resize(img, (cfg.img_h, cfg.img_w))\n",
    "    input_img = np.expand_dims(img, axis=0)\n",
    "    predictions = predict_func([input_img])[0][0]\n",
    "    coor = cal_coornidate_function(predictions,ori_img_h,ori_img_w)\n",
    "    pts1 = np.float32(coor)\n",
    "    pts2 = np.float32([[0,0],[new_plate_w,0],[new_plate_w,new_plate_h],[0,new_plate_h]])\n",
    "\n",
    "    M = cv2.getPerspectiveTransform(pts1,pts2)\n",
    "    dst = cv2.warpPerspective(img_ori,M,(new_plate_w,new_plate_h))\n",
    "#     plt.imshow(dst)\n",
    "#     print(img_path)\n",
    "    img_name = img_path.split(\"/\")[-1]\n",
    "#     print(img_name)\n",
    "    cv2.imwrite(os.path.join(new_plate_path,img_name),dst[0:new_plate_h,0:new_plate_w])\n",
    "   \n",
    "print(\"process has finishined!!!\")"
   ]
  },
  {
   "cell_type": "code",
   "execution_count": 99,
   "metadata": {
    "collapsed": false
   },
   "outputs": [],
   "source": []
  },
  {
   "cell_type": "code",
   "execution_count": 100,
   "metadata": {
    "collapsed": false
   },
   "outputs": [],
   "source": [
    "# print(len(predictions))\n"
   ]
  },
  {
   "cell_type": "code",
   "execution_count": 101,
   "metadata": {
    "collapsed": false
   },
   "outputs": [],
   "source": []
  },
  {
   "cell_type": "code",
   "execution_count": 143,
   "metadata": {
    "collapsed": false
   },
   "outputs": [
    {
     "name": "stdout",
     "output_type": "stream",
     "text": [
      "[[49.99574089050293, 27.399914860725403], [114.61246705055237, 18.877043724060059], [119.66083073616028, 40.511054992675781], [33.442700922489166, 41.134790182113647]]\n"
     ]
    },
    {
     "data": {
      "image/png": "[encoded data removed]",
      "text/plain": [
       "<matplotlib.figure.Figure at 0x7fdb2ca2b160>"
      ]
     },
     "metadata": {},
     "output_type": "display_data"
    }
   ],
   "source": [
    "\n",
    "# plt.savefig('t.jpg')\n",
    "# plt.show()"
   ]
  },
  {
   "cell_type": "code",
   "execution_count": 86,
   "metadata": {
    "collapsed": false
   },
   "outputs": [],
   "source": [
    "# from reader import Data\n",
    "# ds = Data(\"train\")\n",
    "# ds.reset_state()\n",
    "# producer = ds.get_data()\n",
    "# dp = next(producer)"
   ]
  },
  {
   "cell_type": "code",
   "execution_count": 87,
   "metadata": {
    "collapsed": false
   },
   "outputs": [],
   "source": [
    "# input_img = np.expand_dims(dp[0], axis=0)"
   ]
  },
  {
   "cell_type": "code",
   "execution_count": 88,
   "metadata": {
    "collapsed": false
   },
   "outputs": [],
   "source": [
    "# predictions = predict_func([input_img])[0][0]"
   ]
  },
  {
   "cell_type": "code",
   "execution_count": 89,
   "metadata": {
    "collapsed": false
   },
   "outputs": [],
   "source": [
    "# predictions"
   ]
  },
  {
   "cell_type": "code",
   "execution_count": 90,
   "metadata": {
    "collapsed": false
   },
   "outputs": [],
   "source": [
    "# plt.imshow(img)"
   ]
  },
  {
   "cell_type": "code",
   "execution_count": 91,
   "metadata": {
    "collapsed": false
   },
   "outputs": [],
   "source": [
    "# plt.imshow(dp[0])"
   ]
  },
  {
   "cell_type": "code",
   "execution_count": 92,
   "metadata": {
    "collapsed": false
   },
   "outputs": [],
   "source": [
    "# dp[1]"
   ]
  },
  {
   "cell_type": "code",
   "execution_count": null,
   "metadata": {
    "collapsed": true
   },
   "outputs": [],
   "source": []
  }
 ],
 "metadata": {
  "kernelspec": {
   "display_name": "Python 3",
   "language": "python",
   "name": "python3"
  },
  "language_info": {
   "codemirror_mode": {
    "name": "ipython",
    "version": 3
   },
   "file_extension": ".py",
   "mimetype": "text/x-python",
   "name": "python",
   "nbconvert_exporter": "python",
   "pygments_lexer": "ipython3",
   "version": "3.6.0"
  }
 },
 "nbformat": 4,
 "nbformat_minor": 2
}
