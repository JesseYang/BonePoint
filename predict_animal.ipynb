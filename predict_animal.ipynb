{
 "cells": [
  {
   "cell_type": "code",
   "execution_count": 144,
   "metadata": {
    "collapsed": true,
    "deletable": true,
    "editable": true
   },
   "outputs": [],
   "source": [
    "import os\n",
    "import numpy as np\n",
    "from scipy import misc\n",
    "import argparse\n",
    "import json\n",
    "import cv2\n",
    "import shutil\n",
    "from tensorpack import *\n",
    "from train import Model\n",
    "from reader import Data\n",
    "from cfgs.config import cfg\n",
    "\n",
    "\n",
    "from matplotlib import pyplot as plt\n",
    "%matplotlib inline"
   ]
  },
  {
   "cell_type": "code",
   "execution_count": 153,
   "metadata": {
    "collapsed": true,
    "deletable": true,
    "editable": true
   },
   "outputs": [],
   "source": [
    "DATA_ROOT = \"doodles\"\n",
    "animal_name = \"koala\"\n",
    "# pred_ori_result = \"animal_pred_ori_resul_train\"\n",
    "pred_ori_result = \"animal_pred_ori_result_test\"\n"
   ]
  },
  {
   "cell_type": "code",
   "execution_count": null,
   "metadata": {
    "collapsed": true,
    "deletable": true,
    "editable": true
   },
   "outputs": [],
   "source": []
  },
  {
   "cell_type": "code",
   "execution_count": 154,
   "metadata": {
    "collapsed": false,
    "deletable": true,
    "editable": true
   },
   "outputs": [],
   "source": [
    "# initialize the model\n",
    "depth = 18\n",
    "model = Model(depth)\n",
    "sess_init = SaverRestore(\"train_log/train0728-111507/model-1\")\n",
    "predict_config = PredictConfig(session_init=sess_init,\n",
    "                               model=model,\n",
    "                               input_names=[\"input\"],\n",
    "                               output_names=[\"logits\"])"
   ]
  },
  {
   "cell_type": "code",
   "execution_count": 147,
   "metadata": {
    "collapsed": false,
    "deletable": true,
    "editable": true,
    "scrolled": true
   },
   "outputs": [
    {
     "name": "stdout",
     "output_type": "stream",
     "text": [
      "\u001b[32m[0728 17:13:42 @regularize.py:18]\u001b[0m Apply regularizer for conv0/W:0\n",
      "\u001b[32m[0728 17:13:42 @regularize.py:18]\u001b[0m Apply regularizer for group0/block0/conv1/W:0\n",
      "\u001b[32m[0728 17:13:42 @regularize.py:18]\u001b[0m Apply regularizer for group0/block0/conv2/W:0\n",
      "\u001b[32m[0728 17:13:42 @regularize.py:18]\u001b[0m Apply regularizer for group0/block1/conv1/W:0\n",
      "\u001b[32m[0728 17:13:42 @regularize.py:18]\u001b[0m Apply regularizer for group0/block1/conv2/W:0\n",
      "\u001b[32m[0728 17:13:42 @regularize.py:18]\u001b[0m Apply regularizer for group1/block0/conv1/W:0\n",
      "\u001b[32m[0728 17:13:42 @regularize.py:18]\u001b[0m Apply regularizer for group1/block0/conv2/W:0\n",
      "\u001b[32m[0728 17:13:42 @regularize.py:18]\u001b[0m Apply regularizer for group1/block0/convshortcut/W:0\n",
      "\u001b[32m[0728 17:13:42 @regularize.py:18]\u001b[0m Apply regularizer for group1/block1/conv1/W:0\n",
      "\u001b[32m[0728 17:13:42 @regularize.py:18]\u001b[0m Apply regularizer for group1/block1/conv2/W:0\n",
      "\u001b[32m[0728 17:13:42 @regularize.py:18]\u001b[0m Apply regularizer for group2/block0/conv1/W:0\n",
      "\u001b[32m[0728 17:13:42 @regularize.py:18]\u001b[0m Apply regularizer for group2/block0/conv2/W:0\n",
      "\u001b[32m[0728 17:13:42 @regularize.py:18]\u001b[0m Apply regularizer for group2/block0/convshortcut/W:0\n",
      "\u001b[32m[0728 17:13:42 @regularize.py:18]\u001b[0m Apply regularizer for group2/block1/conv1/W:0\n",
      "\u001b[32m[0728 17:13:42 @regularize.py:18]\u001b[0m Apply regularizer for group2/block1/conv2/W:0\n",
      "\u001b[32m[0728 17:13:42 @regularize.py:18]\u001b[0m Apply regularizer for group3/block0/conv1/W:0\n",
      "\u001b[32m[0728 17:13:42 @regularize.py:18]\u001b[0m Apply regularizer for group3/block0/conv2/W:0\n",
      "\u001b[32m[0728 17:13:42 @regularize.py:18]\u001b[0m Apply regularizer for group3/block0/convshortcut/W:0\n",
      "\u001b[32m[0728 17:13:42 @regularize.py:18]\u001b[0m Apply regularizer for group3/block1/conv1/W:0\n",
      "\u001b[32m[0728 17:13:42 @regularize.py:18]\u001b[0m Apply regularizer for group3/block1/conv2/W:0\n",
      "\u001b[32m[0728 17:13:42 @regularize.py:18]\u001b[0m Apply regularizer for linear-koala/W:0\n",
      "\u001b[32m[0728 17:13:43 @sesscreate.py:34]\u001b[0m Global variables initialized.\n",
      "\u001b[32m[0728 17:13:43 @sessinit.py:128]\u001b[0m \u001b[5m\u001b[31mWRN\u001b[0m Variable global_step:0 in checkpoint not found in the graph!\n",
      "\u001b[32m[0728 17:13:43 @sessinit.py:128]\u001b[0m \u001b[5m\u001b[31mWRN\u001b[0m Variable input_queue_size/EMA:0 in checkpoint not found in the graph!\n",
      "\u001b[32m[0728 17:13:43 @sessinit.py:128]\u001b[0m \u001b[5m\u001b[31mWRN\u001b[0m Variable learning_rate:0 in checkpoint not found in the graph!\n",
      "\u001b[32m[0728 17:13:43 @sessinit.py:128]\u001b[0m \u001b[5m\u001b[31mWRN\u001b[0m Variable tower0/l2_regularize_loss/EMA:0 in checkpoint not found in the graph!\n",
      "\u001b[32m[0728 17:13:43 @sessinit.py:128]\u001b[0m \u001b[5m\u001b[31mWRN\u001b[0m Variable tower0/loss/EMA:0 in checkpoint not found in the graph!\n",
      "\u001b[32m[0728 17:13:43 @sessinit.py:100]\u001b[0m Restoring checkpoint from train_log/train0728-111507/model-1 ...\n",
      "INFO:tensorflow:Restoring parameters from train_log/train0728-111507/model-1\n"
     ]
    }
   ],
   "source": [
    "predict_func = OfflinePredictor(predict_config)"
   ]
  },
  {
   "cell_type": "code",
   "execution_count": 155,
   "metadata": {
    "collapsed": false
   },
   "outputs": [],
   "source": [
    "def get_data(filename):\n",
    "    with open(filename,'r') as f:\n",
    "        lin = f.readlines()\n",
    "    rc = [ele.split(' ') for ele in lin]\n",
    "    return rc"
   ]
  },
  {
   "cell_type": "code",
   "execution_count": 156,
   "metadata": {
    "collapsed": true
   },
   "outputs": [],
   "source": [
    " \n",
    "if pred_ori_result.endswith(\"train\") == True:\n",
    "    pred_ori_result = \"animal_pred_ori_resul_train\"\n",
    "    flist = cfg.train_list \n",
    "else:\n",
    "    pred_ori_result = \"animal_pred_ori_result_test\"\n",
    "    flist = cfg.test_list"
   ]
  },
  {
   "cell_type": "code",
   "execution_count": 157,
   "metadata": {
    "collapsed": true
   },
   "outputs": [],
   "source": [
    "name_list = [flist] if type(flist) is not list else flist"
   ]
  },
  {
   "cell_type": "code",
   "execution_count": 158,
   "metadata": {
    "collapsed": true
   },
   "outputs": [],
   "source": [
    "files =[]\n",
    "for list_ in name_list:\n",
    "    files.extend(get_data(list_))"
   ]
  },
  {
   "cell_type": "code",
   "execution_count": 160,
   "metadata": {
    "collapsed": false,
    "deletable": true,
    "editable": true
   },
   "outputs": [],
   "source": [
    "file_path = os.path.join(DATA_ROOT,animal_name)\n",
    "    \n",
    "conf_path = os.path.join(file_path,\"conf.json\")\n",
    "\n",
    "resutl_path = os.path.join(DATA_ROOT,pred_ori_result) \n",
    "\n",
    "\n",
    "\n",
    "if os.path.isdir(resutl_path) == True:\n",
    "    shutil.rmtree(resutl_path)\n",
    "os.mkdir(resutl_path)\n",
    "# print(files[0])\n",
    "\n",
    "for file in files:\n",
    "#     if \"mask\" in file or \"json\" in file or \"result\" in file:\n",
    "#         continue\n",
    "    img_path = file[0]\n",
    "    img = misc.imread(img_path)\n",
    "    # plt.imshow(img)\n",
    "    input_img = np.expand_dims(img, axis=0)\n",
    "    predictions = predict_func([input_img])[0][0]\n",
    "    norm_bones = predictions + np.asarray(cfg.anchor_bones)\n",
    "    \n",
    "    \n",
    "    bboxes = []\n",
    "    for label_idx in range(cfg.obj_num):\n",
    "        mask_path = img_path.replace(\"png\", \"mask.\" + str(label_idx) + \".png\")\n",
    "        cur_label_img = misc.imread(mask_path, mode='L')\n",
    "        cur_label_img = np.minimum(cur_label_img, np.ones(cur_label_img.shape))\n",
    "\n",
    "        t = np.nonzero(cur_label_img)\n",
    "        ymin = np.min(t[0])\n",
    "        ymax = np.max(t[0])\n",
    "        xmin = np.min(t[1])\n",
    "        xmax = np.max(t[1])\n",
    "        bboxes.append([xmin, ymin, xmax, ymax])\n",
    "    bones = []\n",
    "    i = 0\n",
    "    for box_idx in cfg.match:\n",
    "        norm_bone = norm_bones[i:i+2]\n",
    "        i += 2\n",
    "        [xmin, ymin, xmax, ymax] = bboxes[box_idx]\n",
    "        xcenter = (xmax + xmin) / 2\n",
    "        ycenter = (ymax + ymin) / 2\n",
    "        box_width = (xmax - xmin)\n",
    "        box_height = (ymax - ymin)\n",
    "        x = norm_bone[0] * box_width + xcenter\n",
    "        y = norm_bone[1] * box_height + ycenter\n",
    "        bones.append([int(x), int(y)])\n",
    "    \n",
    "   \n",
    "    for bone in bones:\n",
    "        img = cv2.circle(img, (bone[0], bone[1]), 2, (0, 255, 255), thickness=2, lineType=8, shift=0)\n",
    "    \n",
    "    json_file = img_path.replace(\".png\",\".json\")\n",
    "#     print(img_path+json_file)\n",
    "    if os.path.exists(json_file) == False:\n",
    "        continue\n",
    "    with open((json_file),\"r\") as f:\n",
    "        lines = json.load(f)\n",
    "     \n",
    "    for line in lines:\n",
    "        img = cv2.circle(img, (line[0], line[1]), 2, (255, 0, 0), thickness=2, lineType=8, shift=0)\n",
    "#     plt.imshow(img)\n",
    "    result = os.path.join(resutl_path,img_path.split(\"/\")[-1])\n",
    "#     print(result)?\n",
    "    if os.path.isfile(result) == True:\n",
    "        os.remove(result)\n",
    "    cv2.imwrite(result,img)\n",
    "#     break\n",
    "    "
   ]
  },
  {
   "cell_type": "code",
   "execution_count": null,
   "metadata": {
    "collapsed": true
   },
   "outputs": [],
   "source": []
  },
  {
   "cell_type": "code",
   "execution_count": null,
   "metadata": {
    "collapsed": true
   },
   "outputs": [],
   "source": []
  },
  {
   "cell_type": "code",
   "execution_count": null,
   "metadata": {
    "collapsed": true
   },
   "outputs": [],
   "source": []
  },
  {
   "cell_type": "code",
   "execution_count": null,
   "metadata": {
    "collapsed": true
   },
   "outputs": [],
   "source": []
  },
  {
   "cell_type": "code",
   "execution_count": null,
   "metadata": {
    "collapsed": true
   },
   "outputs": [],
   "source": []
  },
  {
   "cell_type": "code",
   "execution_count": null,
   "metadata": {
    "collapsed": true,
    "deletable": true,
    "editable": true
   },
   "outputs": [],
   "source": []
  },
  {
   "cell_type": "code",
   "execution_count": null,
   "metadata": {
    "collapsed": true,
    "deletable": true,
    "editable": true
   },
   "outputs": [],
   "source": []
  }
 ],
 "metadata": {
  "kernelspec": {
   "display_name": "Python 3",
   "language": "python",
   "name": "python3"
  },
  "language_info": {
   "codemirror_mode": {
    "name": "ipython",
    "version": 3
   },
   "file_extension": ".py",
   "mimetype": "text/x-python",
   "name": "python",
   "nbconvert_exporter": "python",
   "pygments_lexer": "ipython3",
   "version": "3.6.0"
  }
 },
 "nbformat": 4,
 "nbformat_minor": 2
}
