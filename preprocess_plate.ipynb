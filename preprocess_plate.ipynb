{
 "cells": [
  {
   "cell_type": "code",
   "execution_count": 1,
   "metadata": {
    "collapsed": true
   },
   "outputs": [],
   "source": [
    "import json\n",
    "import cv2\n",
    "import os\n",
    "from scipy import misc\n",
    "import shutil\n",
    "from matplotlib import pyplot as plt\n",
    "import numpy as np\n",
    "import numpy.ma as ma\n",
    "from random import shuffle\n",
    "%matplotlib inline"
   ]
  },
  {
   "cell_type": "code",
   "execution_count": null,
   "metadata": {
    "collapsed": true
   },
   "outputs": [],
   "source": []
  },
  {
   "cell_type": "code",
   "execution_count": 2,
   "metadata": {
    "collapsed": true
   },
   "outputs": [],
   "source": [
    "name = \"plate\"\n",
    "data_dir = \"plate_keypoint\""
   ]
  },
  {
   "cell_type": "code",
   "execution_count": null,
   "metadata": {
    "collapsed": true
   },
   "outputs": [],
   "source": []
  },
  {
   "cell_type": "code",
   "execution_count": null,
   "metadata": {
    "collapsed": true
   },
   "outputs": [],
   "source": [
    "img_names = os.listdir(data_dir)\n",
    "records = []\n",
    "for img_name in img_names:\n",
    "    # only fetch the original image\n",
    "    if \"json\" in img_name:\n",
    "        continue\n",
    "    \n",
    "    # get the image\n",
    "    img_path = os.path.join(data_dir, img_name)\n",
    "    img = misc.imread(img_path)\n",
    "    \n",
    "    img_width, img_height, _ = img.shape\n",
    "    \n",
    "    # verify bone json file exist\n",
    "    bone_name = img_name.split('.')[0] + \".json\"\n",
    "    bone_path = os.path.join(raw_data_dir, bone_name)\n",
    "    if os.path.isfile(bone_path) == False:\n",
    "        continue\n",
    "    \n",
    "    # get the bone points\n",
    "    with open(bone_path) as f:\n",
    "        bone_info = json.load(f)\n",
    "\n",
    "    # normalize each bone point by the segmented box\n",
    "    norm_bone = []\n",
    "    for bone_idx, bone in enumerate(bone_info):\n",
    "        norm_bone_x = bone[0] / img_width\n",
    "        norm_bone_y = bone[1] / img_height\n",
    "        norm_bone.append([norm_bone_x, norm_bone_y])\n",
    "    \n",
    "    norm_bone = [str(ele[0]) + \" \" + str(ele[1]) for ele in norm_bone]\n",
    "    norm_bone = ' '.join(norm_bone)\n",
    "    \n",
    "    record = img_path + \" \" + norm_bone + \"\\n\"\n",
    "    \n",
    "    records.append(record)\n",
    "\n",
    "shuffle(records)\n",
    "print(\"Number of records: \" + str(len(records)))"
   ]
  },
  {
   "cell_type": "code",
   "execution_count": null,
   "metadata": {
    "collapsed": true
   },
   "outputs": [],
   "source": []
  },
  {
   "cell_type": "code",
   "execution_count": null,
   "metadata": {
    "collapsed": true
   },
   "outputs": [],
   "source": [
    "# split into training set and test set\n",
    "test_ratio = 0.1\n",
    "total_num = len(records)\n",
    "test_num = int(test_ratio * total_num)\n",
    "train_num = total_num - test_num\n",
    "train_records = records[0:train_num]\n",
    "test_records = records[train_num:]"
   ]
  },
  {
   "cell_type": "code",
   "execution_count": null,
   "metadata": {
    "collapsed": true
   },
   "outputs": [],
   "source": [
    "# save to text file\n",
    "all_out_file = open(name + \"_all.txt\", \"w\")\n",
    "for record in records:\n",
    "    all_out_file.write(record)\n",
    "all_out_file.close()\n",
    "\n",
    "train_out_file = open(name + \"_train.txt\", \"w\")\n",
    "for record in train_records:\n",
    "    train_out_file.write(record)\n",
    "train_out_file.close()\n",
    "\n",
    "test_out_file = open(name + \"_test.txt\", \"w\")\n",
    "for record in test_records:\n",
    "    test_out_file.write(record)\n",
    "test_out_file.close()"
   ]
  }
 ],
 "metadata": {
  "kernelspec": {
   "display_name": "Python 3",
   "language": "python",
   "name": "python3"
  },
  "language_info": {
   "codemirror_mode": {
    "name": "ipython",
    "version": 3
   },
   "file_extension": ".py",
   "mimetype": "text/x-python",
   "name": "python",
   "nbconvert_exporter": "python",
   "pygments_lexer": "ipython3",
   "version": "3.6.0"
  }
 },
 "nbformat": 4,
 "nbformat_minor": 2
}
